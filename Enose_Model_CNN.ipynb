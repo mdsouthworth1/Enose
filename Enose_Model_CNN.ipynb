{
 "cells": [
  {
   "cell_type": "code",
   "execution_count": 1,
   "id": "0009091b",
   "metadata": {},
   "outputs": [],
   "source": [
    "import tensorflow as tf\n",
    "import tensorflow.keras as keras\n",
    "import numpy as np\n",
    "from tensorflow.keras.preprocessing.image import ImageDataGenerator, DirectoryIterator\n",
    "from tensorflow.keras.models import Sequential\n",
    "from tensorflow.keras.layers import Dense, Dropout, Activation, Flatten\n",
    "from tensorflow.keras.layers import Conv1D, Conv2D, MaxPooling2D, MaxPooling1D\n",
    "import os"
   ]
  },
  {
   "cell_type": "code",
   "execution_count": null,
   "id": "48fe61a2",
   "metadata": {},
   "outputs": [],
   "source": [
    "# To use GPU for Google Colab\n",
    "import tensorflow as tf\n",
    "device_name = tf.test.gpu_device_name()\n",
    "if device_name != '/device:GPU:0':\n",
    "  raise SystemError('GPU device not found')\n",
    "print('Found GPU at: {}'.format(device_name))"
   ]
  },
  {
   "cell_type": "code",
   "execution_count": 2,
   "id": "7e4cfc8b",
   "metadata": {},
   "outputs": [
    {
     "data": {
      "text/plain": [
       "'C:\\\\Users\\\\mdsou'"
      ]
     },
     "execution_count": 2,
     "metadata": {},
     "output_type": "execute_result"
    }
   ],
   "source": [
    "import os\n",
    "os.getcwd()"
   ]
  },
  {
   "cell_type": "code",
   "execution_count": 5,
   "id": "221e852f",
   "metadata": {},
   "outputs": [],
   "source": [
    "os.chdir(r'C:\\Users\\mdsou\\OneDrive - University of South Florida\\USF MS BAIS\\Electronic Nose\\ENose')"
   ]
  },
  {
   "cell_type": "code",
   "execution_count": 6,
   "id": "ba630854",
   "metadata": {},
   "outputs": [],
   "source": [
    "train_datagen = ImageDataGenerator(\n",
    "    rescale=1. / 255,\n",
    "    shear_range=0.2,\n",
    "    zoom_range=0.2,\n",
    "    horizontal_flip=True)\n",
    "valid_datagen = ImageDataGenerator(rescale=1/255)\n",
    "num_classes = 3"
   ]
  },
  {
   "cell_type": "code",
   "execution_count": 7,
   "id": "6a459763",
   "metadata": {},
   "outputs": [],
   "source": [
    "# Set the dataset directories\n",
    "train_dir = 'train/'\n",
    "val_dir = 'val/'\n",
    "test_dir = 'test/'"
   ]
  },
  {
   "cell_type": "code",
   "execution_count": 8,
   "id": "05dd2f85",
   "metadata": {},
   "outputs": [],
   "source": [
    "#Define image sizes and number of classes\n",
    "img_width=32\n",
    "img_height=32\n",
    "num_classes=3\n",
    "batch_size=32"
   ]
  },
  {
   "cell_type": "code",
   "execution_count": 10,
   "id": "d498127d",
   "metadata": {},
   "outputs": [
    {
     "name": "stdout",
     "output_type": "stream",
     "text": [
      "Found 714 images belonging to 3 classes.\n"
     ]
    },
    {
     "data": {
      "text/plain": [
       "'DirectoryIterator(\\n    directory=\"Enose/train\",\\n    image_data_generator = train_datagen,\\n    target_size=(32, 32),\\n    color_mode=\"grayscale\",\\n    batch_size=batch_size,\\n    class_mode=\"categorical\",\\n    shuffle=True,\\n    seed=42,\\n)'"
      ]
     },
     "execution_count": 10,
     "metadata": {},
     "output_type": "execute_result"
    }
   ],
   "source": [
    "train_data = train_datagen.flow_from_directory(\n",
    "    train_dir,\n",
    "    target_size=(img_width, img_height),\n",
    "    batch_size=batch_size,\n",
    "    color_mode=\"grayscale\",\n",
    "    class_mode=\"categorical\")\n",
    "\"\"\"DirectoryIterator(\n",
    "    directory=\"Enose/train\",\n",
    "    image_data_generator = train_datagen,\n",
    "    target_size=(32, 32),\n",
    "    color_mode=\"grayscale\",\n",
    "    batch_size=batch_size,\n",
    "    class_mode=\"categorical\",\n",
    "    shuffle=True,\n",
    "    seed=42,\n",
    ")\"\"\""
   ]
  },
  {
   "cell_type": "code",
   "execution_count": 12,
   "id": "1e4898a3",
   "metadata": {},
   "outputs": [
    {
     "name": "stdout",
     "output_type": "stream",
     "text": [
      "Found 60 images belonging to 3 classes.\n"
     ]
    },
    {
     "data": {
      "text/plain": [
       "'DirectoryIterator(\\n    directory=\"Enose/val\",\\n    image_data_generator = valid_datagen,\\n    target_size=(32, 32),\\n    color_mode=\"grayscale\",\\n    batch_size=batch_size,\\n    class_mode=\"categorical\",\\n    shuffle=True,\\n    seed=42)'"
      ]
     },
     "execution_count": 12,
     "metadata": {},
     "output_type": "execute_result"
    }
   ],
   "source": [
    "valid_data = valid_datagen.flow_from_directory(\n",
    "    val_dir,\n",
    "    target_size=(img_width, img_height),\n",
    "    batch_size=batch_size,\n",
    "    color_mode=\"grayscale\",\n",
    "    class_mode=\"categorical\")\n",
    "\"\"\"DirectoryIterator(\n",
    "    directory=\"Enose/val\",\n",
    "    image_data_generator = valid_datagen,\n",
    "    target_size=(32, 32),\n",
    "    color_mode=\"grayscale\",\n",
    "    batch_size=batch_size,\n",
    "    class_mode=\"categorical\",\n",
    "    shuffle=True,\n",
    "    seed=42)\"\"\""
   ]
  },
  {
   "cell_type": "code",
   "execution_count": 10,
   "id": "770308be",
   "metadata": {},
   "outputs": [],
   "source": [
    "# Define the number of time steps and sensor channels\n",
    "time_steps = 60\n",
    "num_sensors = 17"
   ]
  },
  {
   "cell_type": "code",
   "execution_count": 12,
   "id": "3dd5b191",
   "metadata": {},
   "outputs": [],
   "source": [
    "# Define the input shape\n",
    "input_shape = (time_steps, num_sensors)\n",
    "img_width=32\n",
    "img_height=32"
   ]
  },
  {
   "cell_type": "code",
   "execution_count": 56,
   "id": "9e9567ca",
   "metadata": {},
   "outputs": [
    {
     "name": "stdout",
     "output_type": "stream",
     "text": [
      "Model: \"sequential_17\"\n",
      "_________________________________________________________________\n",
      " Layer (type)                Output Shape              Param #   \n",
      "=================================================================\n",
      " conv2d_16 (Conv2D)          (None, 32, 32, 32)        320       \n",
      "                                                                 \n",
      " conv2d_17 (Conv2D)          (None, 30, 30, 32)        9248      \n",
      "                                                                 \n",
      " max_pooling2d_20 (MaxPoolin  (None, 15, 15, 32)       0         \n",
      " g2D)                                                            \n",
      "                                                                 \n",
      " dropout (Dropout)           (None, 15, 15, 32)        0         \n",
      "                                                                 \n",
      " conv2d_18 (Conv2D)          (None, 15, 15, 64)        18496     \n",
      "                                                                 \n",
      " conv2d_19 (Conv2D)          (None, 13, 13, 64)        36928     \n",
      "                                                                 \n",
      " max_pooling2d_21 (MaxPoolin  (None, 6, 6, 64)         0         \n",
      " g2D)                                                            \n",
      "                                                                 \n",
      " dropout_1 (Dropout)         (None, 6, 6, 64)          0         \n",
      "                                                                 \n",
      " flatten_16 (Flatten)        (None, 2304)              0         \n",
      "                                                                 \n",
      " dense_24 (Dense)            (None, 64)                147520    \n",
      "                                                                 \n",
      " dropout_2 (Dropout)         (None, 64)                0         \n",
      "                                                                 \n",
      " dense_25 (Dense)            (None, 3)                 195       \n",
      "                                                                 \n",
      "=================================================================\n",
      "Total params: 212,707\n",
      "Trainable params: 212,707\n",
      "Non-trainable params: 0\n",
      "_________________________________________________________________\n"
     ]
    }
   ],
   "source": [
    "# Create a Sequential model\n",
    "model = Sequential()\n",
    "\n",
    "# Add a 2D convolutional layer with 32 filters, a kernel size of 3, and ReLU activation\n",
    "model.add(Conv2D(filters=32, kernel_size=(3, 3), padding='same', activation='relu', input_shape=(img_width, img_height, 1)))\n",
    "model.add(Conv2D(32, (3, 3), activation='relu'))\n",
    "\n",
    "# Add a max pooling layer with a pool size of 2\n",
    "model.add(MaxPooling2D((2, 2)))\n",
    "model.add(Dropout(rate=0.25))\n",
    "\n",
    "model.add(Conv2D(64, (3, 3), padding='same', activation='relu'))\n",
    "model.add(Conv2D(64, (3, 3), activation='relu'))\n",
    "model.add(MaxPooling2D((2, 2)))\n",
    "model.add(Dropout(rate=0.25))\n",
    "\n",
    "# Add a flatten layer\n",
    "model.add(Flatten())\n",
    "model.add(Dense(64, activation='relu'))\n",
    "model.add(Dropout(rate=0.5))\n",
    "\n",
    "# Add a dense layer with number of classes and softmax activation\n",
    "model.add(Dense(3, activation='softmax'))\n",
    "model.summary()"
   ]
  },
  {
   "cell_type": "code",
   "execution_count": 66,
   "id": "267c088f",
   "metadata": {},
   "outputs": [],
   "source": [
    "# Compile the model with appropriate loss function and optimizer\n",
    "opt = tf.keras.optimizers.Adam(learning_rate=0.001)\n",
    "#Trying Adamax for time variant\n",
    "\"\"\"opt = tf.keras.optimizers.experimental.Adamax(\n",
    "    learning_rate=0.0001,\n",
    "    beta_1=0.9,\n",
    "    beta_2=0.999,\n",
    "    epsilon=1e-07,\n",
    "    #weight_decay=None,\n",
    "    clipnorm=None,\n",
    "    clipvalue=None,\n",
    "    global_clipnorm=None,\n",
    "    use_ema=False,\n",
    "    ema_momentum=0.99,\n",
    "    ema_overwrite_frequency=None,\n",
    "    jit_compile=True,\n",
    "    name='Adamax')\"\"\"\n",
    "\n",
    "model.compile(loss='categorical_crossentropy',\n",
    "              optimizer=opt,\n",
    "              metrics=['accuracy'])"
   ]
  },
  {
   "cell_type": "code",
   "execution_count": 29,
   "id": "b63f741d",
   "metadata": {},
   "outputs": [],
   "source": [
    "# Data augmentation techniques to prevent overfitting\n",
    "datagen = ImageDataGenerator(rotation_range=20,\n",
    "                             width_shift_range = 0.2,\n",
    "                             shear_range = 0.2,\n",
    "                             zoom_range = 0.2,\n",
    "                             height_shift_range=0.2,\n",
    "                             horizontal_flip=True)"
   ]
  },
  {
   "cell_type": "code",
   "execution_count": 83,
   "id": "287149c2",
   "metadata": {},
   "outputs": [
    {
     "name": "stdout",
     "output_type": "stream",
     "text": [
      "Epoch 1/25\n",
      "23/23 - 2s - loss: 0.0549 - accuracy: 0.9790 - val_loss: 0.1748 - val_accuracy: 0.9000 - 2s/epoch - 80ms/step\n",
      "Epoch 2/25\n",
      "23/23 - 2s - loss: 0.0601 - accuracy: 0.9804 - val_loss: 0.6218 - val_accuracy: 0.8333 - 2s/epoch - 72ms/step\n",
      "Epoch 3/25\n",
      "23/23 - 2s - loss: 0.0776 - accuracy: 0.9734 - val_loss: 1.0579 - val_accuracy: 0.7000 - 2s/epoch - 69ms/step\n",
      "Epoch 4/25\n",
      "23/23 - 2s - loss: 0.0340 - accuracy: 0.9888 - val_loss: 0.1551 - val_accuracy: 0.9167 - 2s/epoch - 68ms/step\n",
      "Epoch 5/25\n",
      "23/23 - 2s - loss: 0.0987 - accuracy: 0.9650 - val_loss: 0.1377 - val_accuracy: 0.9167 - 2s/epoch - 67ms/step\n",
      "Epoch 6/25\n",
      "23/23 - 2s - loss: 0.0797 - accuracy: 0.9692 - val_loss: 0.4241 - val_accuracy: 0.8500 - 2s/epoch - 68ms/step\n",
      "Epoch 7/25\n",
      "23/23 - 2s - loss: 0.0784 - accuracy: 0.9734 - val_loss: 0.2797 - val_accuracy: 0.9000 - 2s/epoch - 74ms/step\n",
      "Epoch 8/25\n",
      "23/23 - 2s - loss: 0.0514 - accuracy: 0.9804 - val_loss: 0.4561 - val_accuracy: 0.8667 - 2s/epoch - 75ms/step\n",
      "Epoch 9/25\n",
      "23/23 - 2s - loss: 0.0271 - accuracy: 0.9916 - val_loss: 0.1581 - val_accuracy: 0.9500 - 2s/epoch - 73ms/step\n",
      "Epoch 10/25\n",
      "23/23 - 2s - loss: 0.0188 - accuracy: 0.9944 - val_loss: 0.1090 - val_accuracy: 0.9667 - 2s/epoch - 79ms/step\n",
      "Epoch 11/25\n",
      "23/23 - 2s - loss: 0.0242 - accuracy: 0.9902 - val_loss: 0.2390 - val_accuracy: 0.9167 - 2s/epoch - 77ms/step\n",
      "Epoch 12/25\n",
      "23/23 - 2s - loss: 0.0228 - accuracy: 0.9902 - val_loss: 0.4210 - val_accuracy: 0.8833 - 2s/epoch - 74ms/step\n",
      "Epoch 13/25\n",
      "23/23 - 2s - loss: 0.0290 - accuracy: 0.9874 - val_loss: 0.2367 - val_accuracy: 0.9167 - 2s/epoch - 74ms/step\n",
      "Epoch 14/25\n",
      "23/23 - 2s - loss: 0.0338 - accuracy: 0.9846 - val_loss: 0.0425 - val_accuracy: 1.0000 - 2s/epoch - 76ms/step\n",
      "Epoch 15/25\n",
      "23/23 - 2s - loss: 0.0301 - accuracy: 0.9916 - val_loss: 0.0807 - val_accuracy: 0.9500 - 2s/epoch - 76ms/step\n",
      "Epoch 16/25\n",
      "23/23 - 2s - loss: 0.0332 - accuracy: 0.9888 - val_loss: 0.0621 - val_accuracy: 0.9667 - 2s/epoch - 76ms/step\n",
      "Epoch 17/25\n",
      "23/23 - 2s - loss: 0.0142 - accuracy: 0.9972 - val_loss: 0.1824 - val_accuracy: 0.9333 - 2s/epoch - 76ms/step\n",
      "Epoch 18/25\n",
      "23/23 - 2s - loss: 0.0323 - accuracy: 0.9860 - val_loss: 0.4217 - val_accuracy: 0.8667 - 2s/epoch - 75ms/step\n",
      "Epoch 19/25\n",
      "23/23 - 2s - loss: 0.0687 - accuracy: 0.9720 - val_loss: 0.3189 - val_accuracy: 0.8500 - 2s/epoch - 74ms/step\n",
      "Epoch 20/25\n",
      "23/23 - 2s - loss: 0.0902 - accuracy: 0.9748 - val_loss: 0.0986 - val_accuracy: 0.9667 - 2s/epoch - 72ms/step\n",
      "Epoch 21/25\n",
      "23/23 - 2s - loss: 0.1023 - accuracy: 0.9636 - val_loss: 0.3683 - val_accuracy: 0.8167 - 2s/epoch - 68ms/step\n",
      "Epoch 22/25\n",
      "23/23 - 2s - loss: 0.0386 - accuracy: 0.9902 - val_loss: 0.0426 - val_accuracy: 0.9833 - 2s/epoch - 73ms/step\n",
      "Epoch 23/25\n",
      "23/23 - 2s - loss: 0.0425 - accuracy: 0.9832 - val_loss: 0.1243 - val_accuracy: 0.9333 - 2s/epoch - 76ms/step\n",
      "Epoch 24/25\n",
      "23/23 - 2s - loss: 0.0350 - accuracy: 0.9818 - val_loss: 0.0054 - val_accuracy: 1.0000 - 2s/epoch - 82ms/step\n",
      "Epoch 25/25\n",
      "23/23 - 2s - loss: 0.0340 - accuracy: 0.9874 - val_loss: 0.0155 - val_accuracy: 1.0000 - 2s/epoch - 76ms/step\n"
     ]
    }
   ],
   "source": [
    "# Train the model on the training data with data augmentation\n",
    "#history = model.fit(datagen.flow(train_data),\n",
    "#Takes too long and too much memory to train\n",
    "history = model.fit(train_data,\n",
    "          #steps_per_epoch=len(train_data) / batch_size,\n",
    "          epochs=25,\n",
    "          validation_data=valid_data, verbose=2)"
   ]
  },
  {
   "cell_type": "code",
   "execution_count": 72,
   "id": "571d4e5a",
   "metadata": {},
   "outputs": [
    {
     "name": "stdout",
     "output_type": "stream",
     "text": [
      "Epoch 1/15\n",
      " 1/23 [>.............................] - ETA: 2s - loss: 0.0753 - accuracy: 0.9688"
     ]
    },
    {
     "name": "stderr",
     "output_type": "stream",
     "text": [
      "C:\\Users\\mdsou\\AppData\\Local\\Temp\\ipykernel_15120\\1812815383.py:1: UserWarning: `Model.fit_generator` is deprecated and will be removed in a future version. Please use `Model.fit`, which supports generators.\n",
      "  history = model.fit_generator(\n"
     ]
    },
    {
     "name": "stdout",
     "output_type": "stream",
     "text": [
      "23/23 [==============================] - 2s 86ms/step - loss: 0.1187 - accuracy: 0.9636 - val_loss: 0.7578 - val_accuracy: 0.7667\n",
      "Epoch 2/15\n",
      "23/23 [==============================] - 2s 81ms/step - loss: 0.0988 - accuracy: 0.9664 - val_loss: 0.9390 - val_accuracy: 0.7667\n",
      "Epoch 3/15\n",
      "23/23 [==============================] - 2s 82ms/step - loss: 0.0963 - accuracy: 0.9566 - val_loss: 0.9762 - val_accuracy: 0.6000\n",
      "Epoch 4/15\n",
      "23/23 [==============================] - 2s 84ms/step - loss: 0.1571 - accuracy: 0.9482 - val_loss: 0.4541 - val_accuracy: 0.8000\n",
      "Epoch 5/15\n",
      "23/23 [==============================] - 2s 80ms/step - loss: 0.0977 - accuracy: 0.9678 - val_loss: 0.5420 - val_accuracy: 0.8000\n",
      "Epoch 6/15\n",
      "23/23 [==============================] - 2s 91ms/step - loss: 0.0671 - accuracy: 0.9818 - val_loss: 0.2314 - val_accuracy: 0.9000\n",
      "Epoch 7/15\n",
      "23/23 [==============================] - 2s 94ms/step - loss: 0.0622 - accuracy: 0.9776 - val_loss: 0.7697 - val_accuracy: 0.7667\n",
      "Epoch 8/15\n",
      "23/23 [==============================] - 2s 93ms/step - loss: 0.0663 - accuracy: 0.9734 - val_loss: 0.5653 - val_accuracy: 0.8000\n",
      "Epoch 9/15\n",
      "23/23 [==============================] - 2s 95ms/step - loss: 0.0869 - accuracy: 0.9608 - val_loss: 0.3563 - val_accuracy: 0.8667\n",
      "Epoch 10/15\n",
      "23/23 [==============================] - 2s 88ms/step - loss: 0.0819 - accuracy: 0.9818 - val_loss: 0.2650 - val_accuracy: 0.8667\n",
      "Epoch 11/15\n",
      "23/23 [==============================] - 2s 92ms/step - loss: 0.0588 - accuracy: 0.9776 - val_loss: 0.5954 - val_accuracy: 0.8000\n",
      "Epoch 12/15\n",
      "23/23 [==============================] - 2s 89ms/step - loss: 0.0679 - accuracy: 0.9790 - val_loss: 1.1205 - val_accuracy: 0.7500\n",
      "Epoch 13/15\n",
      "23/23 [==============================] - 2s 97ms/step - loss: 0.0501 - accuracy: 0.9818 - val_loss: 0.9131 - val_accuracy: 0.7667\n",
      "Epoch 14/15\n",
      "23/23 [==============================] - 2s 97ms/step - loss: 0.0814 - accuracy: 0.9776 - val_loss: 0.5580 - val_accuracy: 0.8167\n",
      "Epoch 15/15\n",
      "23/23 [==============================] - 2s 96ms/step - loss: 0.0536 - accuracy: 0.9860 - val_loss: 0.1225 - val_accuracy: 0.9333\n"
     ]
    }
   ],
   "source": [
    "history = model.fit_generator(\n",
    "    train_data,\n",
    "    #steps_per_epoch=nb_train_samples // batch_size,\n",
    "    epochs=15,\n",
    "    validation_data=valid_data,\n",
    "    #validation_steps=nb_validation_samples // batch_size\n",
    ")"
   ]
  },
  {
   "cell_type": "code",
   "execution_count": 43,
   "id": "997e5cc7",
   "metadata": {},
   "outputs": [
    {
     "data": {
      "text/plain": [
       "<keras.callbacks.History at 0x2b9647584c0>"
      ]
     },
     "execution_count": 43,
     "metadata": {},
     "output_type": "execute_result"
    }
   ],
   "source": [
    "model.save_weights('model_saved.h5')"
   ]
  },
  {
   "cell_type": "code",
   "execution_count": 44,
   "id": "240a6c53",
   "metadata": {},
   "outputs": [
    {
     "ename": "NameError",
     "evalue": "name 'x_test' is not defined",
     "output_type": "error",
     "traceback": [
      "\u001b[1;31m---------------------------------------------------------------------------\u001b[0m",
      "\u001b[1;31mNameError\u001b[0m                                 Traceback (most recent call last)",
      "Input \u001b[1;32mIn [44]\u001b[0m, in \u001b[0;36m<cell line: 2>\u001b[1;34m()\u001b[0m\n\u001b[0;32m      1\u001b[0m \u001b[38;5;66;03m# Evaluate the model on the test data\u001b[39;00m\n\u001b[1;32m----> 2\u001b[0m score \u001b[38;5;241m=\u001b[39m model\u001b[38;5;241m.\u001b[39mevaluate(\u001b[43mx_test\u001b[49m, y_test, verbose\u001b[38;5;241m=\u001b[39m\u001b[38;5;241m1\u001b[39m)\n\u001b[0;32m      3\u001b[0m \u001b[38;5;28mprint\u001b[39m(\u001b[38;5;124m'\u001b[39m\u001b[38;5;124mTest loss:\u001b[39m\u001b[38;5;124m'\u001b[39m, score[\u001b[38;5;241m0\u001b[39m])\n\u001b[0;32m      4\u001b[0m \u001b[38;5;28mprint\u001b[39m(\u001b[38;5;124m'\u001b[39m\u001b[38;5;124mTest accuracy:\u001b[39m\u001b[38;5;124m'\u001b[39m, score[\u001b[38;5;241m1\u001b[39m])\n",
      "\u001b[1;31mNameError\u001b[0m: name 'x_test' is not defined"
     ]
    }
   ],
   "source": [
    "# Evaluate the model on the test data\n",
    "score = model.evaluate(x_test, y_test, verbose=1)\n",
    "print('Test loss:', score[0])\n",
    "print('Test accuracy:', score[1])"
   ]
  },
  {
   "cell_type": "markdown",
   "id": "a96dd5a8",
   "metadata": {},
   "source": [
    "# Create new set for prediction"
   ]
  },
  {
   "cell_type": "code",
   "execution_count": 75,
   "id": "af371343",
   "metadata": {},
   "outputs": [
    {
     "data": {
      "text/plain": [
       "<matplotlib.image.AxesImage at 0x22b7e8ba460>"
      ]
     },
     "execution_count": 75,
     "metadata": {},
     "output_type": "execute_result"
    },
    {
     "data": {
      "image/png": "[encoded data removed]",
      "text/plain": [
       "<Figure size 432x288 with 1 Axes>"
      ]
     },
     "metadata": {
      "needs_background": "light"
     },
     "output_type": "display_data"
    }
   ],
   "source": [
    "from tensorflow.keras.preprocessing.image import load_img\n",
    "from tensorflow.keras.preprocessing.image import img_to_array\n",
    "from matplotlib import pyplot as plt\n",
    "\n",
    "#Test\n",
    "img = load_img(\"./val/Ethanol/image_Ethanol 200ppm62.png\",\n",
    "               color_mode='grayscale',\n",
    "               target_size=(32,32)\n",
    "              )\n",
    "\n",
    "\n",
    "plt.imshow(img)"
   ]
  },
  {
   "cell_type": "code",
   "execution_count": 78,
   "id": "38215888",
   "metadata": {},
   "outputs": [
    {
     "name": "stdout",
     "output_type": "stream",
     "text": [
      "1/1 [==============================] - 0s 477ms/step\n"
     ]
    },
    {
     "data": {
      "text/plain": [
       "array([[9.9821609e-01, 7.7757970e-05, 1.7062315e-03]], dtype=float32)"
      ]
     },
     "execution_count": 78,
     "metadata": {},
     "output_type": "execute_result"
    }
   ],
   "source": [
    "#Convert the image to array\n",
    "single_image = img_to_array(img)\n",
    "\n",
    "#Also divide the image values by 255 to normalize\n",
    "img_rank4 = np.expand_dims(single_image/255, axis=0)\n",
    "\n",
    "model.predict(img_rank4)"
   ]
  },
  {
   "cell_type": "code",
   "execution_count": 79,
   "id": "5e62723f",
   "metadata": {},
   "outputs": [
    {
     "name": "stdout",
     "output_type": "stream",
     "text": [
      "1/1 [==============================] - 0s 21ms/step\n"
     ]
    },
    {
     "data": {
      "text/plain": [
       "array([[1., 0., 0.]], dtype=float32)"
      ]
     },
     "execution_count": 79,
     "metadata": {},
     "output_type": "execute_result"
    }
   ],
   "source": [
    "np.round(model.predict(img_rank4),2)"
   ]
  },
  {
   "cell_type": "code",
   "execution_count": 80,
   "id": "8817260c",
   "metadata": {},
   "outputs": [
    {
     "name": "stdout",
     "output_type": "stream",
     "text": [
      "1/1 [==============================] - 0s 20ms/step\n"
     ]
    },
    {
     "data": {
      "text/plain": [
       "array([0], dtype=int64)"
      ]
     },
     "execution_count": 80,
     "metadata": {},
     "output_type": "execute_result"
    }
   ],
   "source": [
    "# We can predict the class directly using the following function:\n",
    "\n",
    "np.argmax(model.predict(img_rank4), axis=-1)"
   ]
  },
  {
   "cell_type": "code",
   "execution_count": 81,
   "id": "fee5f169",
   "metadata": {},
   "outputs": [
    {
     "data": {
      "text/plain": [
       "{'Ethanol': 0, 'Isopropanol': 1, 'Methanol': 2}"
      ]
     },
     "execution_count": 81,
     "metadata": {},
     "output_type": "execute_result"
    }
   ],
   "source": [
    "# Retrieve the class labels from the train_generator:\n",
    "\n",
    "label_map = (train_data.class_indices)\n",
    "\n",
    "label_map"
   ]
  },
  {
   "cell_type": "code",
   "execution_count": 82,
   "id": "77f2bb90",
   "metadata": {},
   "outputs": [
    {
     "name": "stdout",
     "output_type": "stream",
     "text": [
      "1/1 [==============================] - 0s 22ms/step\n"
     ]
    },
    {
     "data": {
      "text/plain": [
       "'Ethanol'"
      ]
     },
     "execution_count": 82,
     "metadata": {},
     "output_type": "execute_result"
    }
   ],
   "source": [
    "list(label_map.keys())[np.argmax(model.predict(img_rank4), axis=-1)[0]]"
   ]
  },
  {
   "cell_type": "code",
   "execution_count": 84,
   "id": "e4a006eb",
   "metadata": {},
   "outputs": [
    {
     "data": {
      "image/png": "[encoded data removed]",
      "text/plain": [
       "<Figure size 432x288 with 1 Axes>"
      ]
     },
     "metadata": {
      "needs_background": "light"
     },
     "output_type": "display_data"
    },
    {
     "data": {
      "image/png": "[encoded data removed]",
      "text/plain": [
       "<Figure size 432x288 with 1 Axes>"
      ]
     },
     "metadata": {
      "needs_background": "light"
     },
     "output_type": "display_data"
    }
   ],
   "source": [
    "import matplotlib.pyplot as plt\n",
    "\n",
    "##plot the scores from history\n",
    "def plot_graphs(history, string):\n",
    "    plt.plot(history.history[string])\n",
    "    plt.plot(history.history['val_'+string])\n",
    "    plt.legend([string, 'val_'+string])\n",
    "    plt.xlabel(\"Epochs\")\n",
    "    plt.ylabel(string)\n",
    "    plt.show()\n",
    "    \n",
    "plot_graphs(history, \"accuracy\")\n",
    "plot_graphs(history, \"loss\")"
   ]
  },
  {
   "cell_type": "code",
   "execution_count": null,
   "id": "9fb132ca",
   "metadata": {},
   "outputs": [],
   "source": [
    "# Make predictions on new gas signatures\n",
    "predictions = model.predict(new_gas_signatures)"
   ]
  }
 ],
 "metadata": {
  "kernelspec": {
   "display_name": "Python 3 (ipykernel)",
   "language": "python",
   "name": "python3"
  },
  "language_info": {
   "codemirror_mode": {
    "name": "ipython",
    "version": 3
   },
   "file_extension": ".py",
   "mimetype": "text/x-python",
   "name": "python",
   "nbconvert_exporter": "python",
   "pygments_lexer": "ipython3",
   "version": "3.9.12"
  }
 },
 "nbformat": 4,
 "nbformat_minor": 5
}
